{
 "cells": [
  {
   "cell_type": "markdown",
   "metadata": {
    "colab_type": "text",
    "id": "IGVndfDXTYvF"
   },
   "source": [
    "# Lab - Object Oriented Programming"
   ]
  },
  {
   "cell_type": "code",
   "execution_count": 32,
   "metadata": {
    "colab": {},
    "colab_type": "code",
    "id": "eFUM14nhTYvJ"
   },
   "outputs": [],
   "source": [
    "import pandas as pd\n",
    "import numpy as np"
   ]
  },
  {
   "cell_type": "markdown",
   "metadata": {
    "colab_type": "text",
    "id": "VAdTxKlPTYvP"
   },
   "source": [
    "# Challenge 2"
   ]
  },
  {
   "cell_type": "markdown",
   "metadata": {
    "colab_type": "text",
    "id": "r1ytbMg1TYvR"
   },
   "source": [
    "In order to understand the benefits of simple object-oriented programming, we have to build up our classes from the beginning. "
   ]
  },
  {
   "cell_type": "markdown",
   "metadata": {
    "colab_type": "text",
    "id": "X0QMBMXqTYvS"
   },
   "source": [
    "You'll use the following dataframe generator to test some things. Try to understand what the following function does."
   ]
  },
  {
   "cell_type": "code",
   "execution_count": 33,
   "metadata": {
    "colab": {},
    "colab_type": "code",
    "id": "X45Itv4vTYvU"
   },
   "outputs": [],
   "source": [
    "chars = ['a', 'b', 'c','d', 'e', 'f', ' ', 'á','é','ó']\n",
    "\n",
    "def create_weird_dataframe(size=10):\n",
    "    def create_weird_colnames(size=size):\n",
    "        probs = [.2,.2,.15,.1,.1,.1,.05,.05,.025,.025]\n",
    "\n",
    "        return [''.join(\n",
    "            [(char.upper() if np.random.random() < 0.2 else char) \n",
    "                     for char in np.random.choice(chars,size=12, p=probs)]) for i in range(size)]\n",
    "    \n",
    "    data = np.random.random(size=(size,size))\n",
    "    colnames = create_weird_colnames(size)\n",
    "    return pd.DataFrame(data=data, columns=colnames)"
   ]
  },
  {
   "cell_type": "markdown",
   "metadata": {
    "colab_type": "text",
    "id": "u2mUOpnbTYvY"
   },
   "source": [
    "Test the results of running that function below. Run it several times"
   ]
  },
  {
   "cell_type": "code",
   "execution_count": 34,
   "metadata": {
    "colab": {},
    "colab_type": "code",
    "id": "sN4YC6L2TYvZ"
   },
   "outputs": [
    {
     "data": {
      "text/html": [
       "<div>\n",
       "<style scoped>\n",
       "    .dataframe tbody tr th:only-of-type {\n",
       "        vertical-align: middle;\n",
       "    }\n",
       "\n",
       "    .dataframe tbody tr th {\n",
       "        vertical-align: top;\n",
       "    }\n",
       "\n",
       "    .dataframe thead th {\n",
       "        text-align: right;\n",
       "    }\n",
       "</style>\n",
       "<table border=\"1\" class=\"dataframe\">\n",
       "  <thead>\n",
       "    <tr style=\"text-align: right;\">\n",
       "      <th></th>\n",
       "      <th>EbabeCÓÉáábá</th>\n",
       "      <th>bDaBfeóAdCda</th>\n",
       "      <th>ebbBaeBdfcba</th>\n",
       "      <th>Baccfcbebdé</th>\n",
       "      <th>Eb cDcbafabE</th>\n",
       "      <th>áaáaBcaEcaed</th>\n",
       "      <th>aócebdadÁeaÓ</th>\n",
       "      <th>aAcáafdFdeab</th>\n",
       "      <th>eEc ccebcCf</th>\n",
       "      <th>BBAb dafdabe</th>\n",
       "    </tr>\n",
       "  </thead>\n",
       "  <tbody>\n",
       "    <tr>\n",
       "      <th>0</th>\n",
       "      <td>0.560372</td>\n",
       "      <td>0.661710</td>\n",
       "      <td>0.398995</td>\n",
       "      <td>0.217707</td>\n",
       "      <td>0.832576</td>\n",
       "      <td>0.541624</td>\n",
       "      <td>0.175059</td>\n",
       "      <td>0.412926</td>\n",
       "      <td>0.590882</td>\n",
       "      <td>0.892858</td>\n",
       "    </tr>\n",
       "    <tr>\n",
       "      <th>1</th>\n",
       "      <td>0.305179</td>\n",
       "      <td>0.251231</td>\n",
       "      <td>0.582118</td>\n",
       "      <td>0.220873</td>\n",
       "      <td>0.057252</td>\n",
       "      <td>0.810775</td>\n",
       "      <td>0.021666</td>\n",
       "      <td>0.811478</td>\n",
       "      <td>0.028720</td>\n",
       "      <td>0.416771</td>\n",
       "    </tr>\n",
       "    <tr>\n",
       "      <th>2</th>\n",
       "      <td>0.367333</td>\n",
       "      <td>0.960143</td>\n",
       "      <td>0.171967</td>\n",
       "      <td>0.849724</td>\n",
       "      <td>0.870932</td>\n",
       "      <td>0.687468</td>\n",
       "      <td>0.141847</td>\n",
       "      <td>0.333568</td>\n",
       "      <td>0.270926</td>\n",
       "      <td>0.924395</td>\n",
       "    </tr>\n",
       "    <tr>\n",
       "      <th>3</th>\n",
       "      <td>0.931438</td>\n",
       "      <td>0.226208</td>\n",
       "      <td>0.781358</td>\n",
       "      <td>0.705584</td>\n",
       "      <td>0.861286</td>\n",
       "      <td>0.824949</td>\n",
       "      <td>0.838881</td>\n",
       "      <td>0.314062</td>\n",
       "      <td>0.034455</td>\n",
       "      <td>0.702910</td>\n",
       "    </tr>\n",
       "    <tr>\n",
       "      <th>4</th>\n",
       "      <td>0.320304</td>\n",
       "      <td>0.032452</td>\n",
       "      <td>0.345210</td>\n",
       "      <td>0.936688</td>\n",
       "      <td>0.686717</td>\n",
       "      <td>0.078747</td>\n",
       "      <td>0.341173</td>\n",
       "      <td>0.305504</td>\n",
       "      <td>0.609939</td>\n",
       "      <td>0.261063</td>\n",
       "    </tr>\n",
       "  </tbody>\n",
       "</table>\n",
       "</div>"
      ],
      "text/plain": [
       "   EbabeCÓÉáábá  bDaBfeóAdCda  ebbBaeBdfcba  Baccfcbebdé   Eb cDcbafabE  \\\n",
       "0      0.560372      0.661710      0.398995      0.217707      0.832576   \n",
       "1      0.305179      0.251231      0.582118      0.220873      0.057252   \n",
       "2      0.367333      0.960143      0.171967      0.849724      0.870932   \n",
       "3      0.931438      0.226208      0.781358      0.705584      0.861286   \n",
       "4      0.320304      0.032452      0.345210      0.936688      0.686717   \n",
       "\n",
       "   áaáaBcaEcaed  aócebdadÁeaÓ  aAcáafdFdeab   eEc ccebcCf  BBAb dafdabe  \n",
       "0      0.541624      0.175059      0.412926      0.590882      0.892858  \n",
       "1      0.810775      0.021666      0.811478      0.028720      0.416771  \n",
       "2      0.687468      0.141847      0.333568      0.270926      0.924395  \n",
       "3      0.824949      0.838881      0.314062      0.034455      0.702910  \n",
       "4      0.078747      0.341173      0.305504      0.609939      0.261063  "
      ]
     },
     "execution_count": 34,
     "metadata": {},
     "output_type": "execute_result"
    }
   ],
   "source": [
    "df = create_weird_dataframe()\n",
    "df.head()"
   ]
  },
  {
   "cell_type": "markdown",
   "metadata": {
    "colab_type": "text",
    "id": "uk4PrJFfTYvd"
   },
   "source": [
    "## Correcting the column names\n",
    "\n",
    "We'll create a function that rename the weird column names. The idea is to, later, extend that idea to our own brand new dataframe class."
   ]
  },
  {
   "cell_type": "markdown",
   "metadata": {
    "colab_type": "text",
    "id": "n7Zt4bABTYvf"
   },
   "source": [
    "### let's start simple: get the column names of the dataframe.\n",
    "\n",
    "Store it in a variable called `col_names`\n"
   ]
  },
  {
   "cell_type": "code",
   "execution_count": 35,
   "metadata": {
    "colab": {},
    "colab_type": "code",
    "id": "ZPR1hdCITYvg"
   },
   "outputs": [],
   "source": [
    "col_names=df.columns"
   ]
  },
  {
   "cell_type": "markdown",
   "metadata": {
    "colab_type": "text",
    "id": "CIkkr475TYvk"
   },
   "source": [
    "### Let's iterate through this columns and transform them into lower-case column names\n",
    "\n",
    "Create a list comprehension to do that if possible. Store it in a variable called `lower_colnames`"
   ]
  },
  {
   "cell_type": "code",
   "execution_count": 36,
   "metadata": {
    "colab": {},
    "colab_type": "code",
    "id": "6TXYfFx5TYvl"
   },
   "outputs": [
    {
     "data": {
      "text/plain": [
       "['ebabecóéáábá',\n",
       " 'bdabfeóadcda',\n",
       " 'ebbbaebdfcba',\n",
       " 'baccfcbebdé ',\n",
       " 'eb cdcbafabe',\n",
       " 'áaáabcaecaed',\n",
       " 'aócebdadáeaó',\n",
       " 'aacáafdfdeab',\n",
       " ' eec ccebccf',\n",
       " 'bbab dafdabe']"
      ]
     },
     "execution_count": 36,
     "metadata": {},
     "output_type": "execute_result"
    }
   ],
   "source": [
    "lower_colnames = []\n",
    "for i in col_names:\n",
    "    lower_colnames.append(i.lower())\n",
    "lower_colnames    "
   ]
  },
  {
   "cell_type": "markdown",
   "metadata": {
    "colab_type": "text",
    "id": "qlTchgNbTYvp"
   },
   "source": [
    "### Let's remove the spaces of these column names!\n",
    "\n",
    "Replace each column name space ` ` for an underline `_`. Again, try to use a list comprehension to do that. \n",
    "For this first task use `.replace(' ','_')` method to do that."
   ]
  },
  {
   "cell_type": "code",
   "execution_count": 37,
   "metadata": {
    "colab": {},
    "colab_type": "code",
    "id": "y0JFfKgFTYvq"
   },
   "outputs": [
    {
     "data": {
      "text/plain": [
       "['ebabecóéáábá',\n",
       " 'bdabfeóadcda',\n",
       " 'ebbbaebdfcba',\n",
       " 'baccfcbebdé_',\n",
       " 'eb_cdcbafabe',\n",
       " 'áaáabcaecaed',\n",
       " 'aócebdadáeaó',\n",
       " 'aacáafdfdeab',\n",
       " '_eec_ccebccf',\n",
       " 'bbab_dafdabe']"
      ]
     },
     "execution_count": 37,
     "metadata": {},
     "output_type": "execute_result"
    }
   ],
   "source": [
    "for i in lower_colnames:\n",
    "    if ' ' in i:\n",
    "        lower_colnames[lower_colnames.index(i)] = i.replace(' ','_')\n",
    "lower_colnames    "
   ]
  },
  {
   "cell_type": "markdown",
   "metadata": {
    "colab_type": "text",
    "id": "TCj5NklYTYvu"
   },
   "source": [
    "### Create a function that groups the results obtained above and return the lower case underlined names as a list\n",
    "\n",
    "Name the function `normalize_cols`. This function should receive a dataframe, get the column names of a it and return the treated list of column names."
   ]
  },
  {
   "cell_type": "code",
   "execution_count": 40,
   "metadata": {
    "colab": {},
    "colab_type": "code",
    "id": "aqYwg4EJTYvv"
   },
   "outputs": [],
   "source": [
    "def normalize_cols(df):\n",
    "    col_names=df.columns\n",
    "    lower_colnames = []\n",
    "    for i in col_names:\n",
    "        lower_colnames.append(i.lower())\n",
    "        for i in lower_colnames:\n",
    "            if ' ' in i:\n",
    "                lower_colnames[lower_colnames.index(i)] = i.replace(' ','_')\n",
    "    return lower_colnames   "
   ]
  },
  {
   "cell_type": "markdown",
   "metadata": {
    "colab_type": "text",
    "id": "YMpWYJFwTYvz"
   },
   "source": [
    "### Test your results\n",
    "\n",
    "Use the following line of code to test your results. Run it several times to see some behaviors."
   ]
  },
  {
   "cell_type": "code",
   "execution_count": 45,
   "metadata": {
    "colab": {},
    "colab_type": "code",
    "id": "fbXmMMd3TYv0"
   },
   "outputs": [
    {
     "data": {
      "text/plain": [
       "['acfbadcaéább',\n",
       " 'bebccfdabbab',\n",
       " 'cáab_dce_cca',\n",
       " 'aacebaffffda',\n",
       " 'bfababbá_adf',\n",
       " 'fbaefébfbcbb',\n",
       " 'e_eadeaaffaf',\n",
       " 'cabbcabáadóc',\n",
       " 'bcacaáacabcb',\n",
       " 'ebaaffbfdada']"
      ]
     },
     "execution_count": 45,
     "metadata": {},
     "output_type": "execute_result"
    }
   ],
   "source": [
    "normalize_cols(create_weird_dataframe())"
   ]
  },
  {
   "cell_type": "markdown",
   "metadata": {
    "colab_type": "text",
    "id": "LWMc9bikTYv4"
   },
   "source": [
    "### hmmm, we've made a mistake!\n",
    "\n",
    "We've commited several mistakes by doing this. Have observed any bugs associated with our results?"
   ]
  },
  {
   "cell_type": "markdown",
   "metadata": {
    "colab_type": "text",
    "id": "fGnyUzGATYv5"
   },
   "source": [
    "In order for us to see some problems in our results, we have to look for edge cases. \n",
    "\n",
    "For example: \n",
    "\n",
    "**Problem #1:** what if there are 2 or more following spaces? We want it to replace the spaces by several underlines or condense them into one?\n",
    "\n",
    "**Problem #2:** what if there are spaces at the beginning? Should we substitute them by underline or drop them?"
   ]
  },
  {
   "cell_type": "markdown",
   "metadata": {
    "colab_type": "text",
    "id": "BkJguuBITYv6"
   },
   "source": [
    "Let's correct each problem. Starting by problem 2."
   ]
  },
  {
   "cell_type": "markdown",
   "metadata": {
    "colab_type": "text",
    "id": "ikvacQQ3TYv7"
   },
   "source": [
    "## Correcting our function\n",
    "\n",
    "Instead of substituting the spaces at first place, let's remove the trailing and leading spaces!\n",
    "\n",
    "Recreate the `normalize_cols` with the solution to `Problem 2`.\n",
    "\n",
    "*Hint: Copy and paste the last `normalize_cols` function to change it.*"
   ]
  },
  {
   "cell_type": "code",
   "execution_count": 52,
   "metadata": {
    "colab": {},
    "colab_type": "code",
    "id": "u_kX4HS1TYv8"
   },
   "outputs": [],
   "source": [
    "def normalize_cols(df):\n",
    "    col_names=df.columns\n",
    "    lower_colnames = []\n",
    "    for i in col_names:\n",
    "        lower_colnames.append(i.lower())\n",
    "        for i in lower_colnames:\n",
    "            if i.startswith(' '):\n",
    "                lower_colnames[lower_colnames.index(i)] = i.lstrip()\n",
    "            elif ' ' in i:\n",
    "                lower_colnames[lower_colnames.index(i)] = i.replace(' ','_')\n",
    "            else:\n",
    "                lower_colnames[lower_colnames.index(i)] = i\n",
    "                \n",
    "    return lower_colnames   "
   ]
  },
  {
   "cell_type": "markdown",
   "metadata": {
    "colab_type": "text",
    "id": "MXm2-PEbTYwA"
   },
   "source": [
    "### Test your results again.\n",
    "\n",
    "At least, for now, you should not have any trailing nor leading underlines."
   ]
  },
  {
   "cell_type": "code",
   "execution_count": 65,
   "metadata": {
    "colab": {},
    "colab_type": "code",
    "id": "Bm9ifu5QTYwB"
   },
   "outputs": [
    {
     "data": {
      "text/plain": [
       "['eaffbcbfébfb',\n",
       " 'bbdbcfbadcáb',\n",
       " 'b_badccfceád',\n",
       " 'afáacáfeddad',\n",
       " 'aecfbábcáeda',\n",
       " 'bácaaeaccfdd',\n",
       " 'aéádbacbacfc',\n",
       " 'aabcfabbeába',\n",
       " 'ceáfdcdbcbdd',\n",
       " 'cócccfedcfba']"
      ]
     },
     "execution_count": 65,
     "metadata": {},
     "output_type": "execute_result"
    }
   ],
   "source": [
    "normalize_cols(create_weird_dataframe())"
   ]
  },
  {
   "cell_type": "markdown",
   "metadata": {
    "colab_type": "text",
    "id": "zNR5w4cWTYwE"
   },
   "source": [
    "### Correcting problem 1"
   ]
  },
  {
   "cell_type": "markdown",
   "metadata": {
    "colab_type": "text",
    "id": "vSJu3qCCTYwG"
   },
   "source": [
    "To correct problem 1, instead of using `.replace()` string method, we want to use a regular expression. Use the module `re` to substitute the pattern of `1 or more spaces` by 1 underline `_`.\n",
    "\n",
    "Test your solution on the variable below:"
   ]
  },
  {
   "cell_type": "code",
   "execution_count": 66,
   "metadata": {
    "colab": {},
    "colab_type": "code",
    "id": "8dm4rS5mTYwH"
   },
   "outputs": [],
   "source": [
    "import re \n",
    "\n",
    "text = 'these spaces      should all be one underline'"
   ]
  },
  {
   "cell_type": "code",
   "execution_count": 80,
   "metadata": {
    "colab": {},
    "colab_type": "code",
    "id": "RP-cz9kKTYwK"
   },
   "outputs": [
    {
     "name": "stdout",
     "output_type": "stream",
     "text": [
      "these_spaces______should_all_be_one_underline\n",
      "these_spaces_should_all_be_one_underline\n"
     ]
    }
   ],
   "source": [
    "txt = re.sub(' ','_', text)\n",
    "print(txt)\n",
    "print(re.sub('([_]+)','_',txt))"
   ]
  },
  {
   "cell_type": "markdown",
   "metadata": {
    "colab_type": "text",
    "id": "iqffTpd3TYwU"
   },
   "source": [
    "### Now correct your `normalize_cols` function\n",
    "\n",
    "*Hint: Copy and paste the last `normalize_cols` function to change it.*"
   ]
  },
  {
   "cell_type": "code",
   "execution_count": 87,
   "metadata": {
    "colab": {},
    "colab_type": "code",
    "id": "7SxhpuOCTYwV"
   },
   "outputs": [],
   "source": [
    "def normalize_cols(df):\n",
    "    col_names=df.columns\n",
    "    lower_colnames = []\n",
    "    for i in col_names:\n",
    "        lower_colnames.append(i.lower())\n",
    "        for i in lower_colnames:\n",
    "            if i.startswith(' '):\n",
    "                lower_colnames[lower_colnames.index(i)] = i.lstrip()\n",
    "            elif ' ' in i:\n",
    "                pos = lower_colnames.index(i)\n",
    "                i = re.sub(' ','_', i)\n",
    "                i = re.sub('([_]+)','_',i)\n",
    "                lower_colnames[pos] = i\n",
    "            else:\n",
    "                lower_colnames[lower_colnames.index(i)] = i\n",
    "                \n",
    "    return lower_colnames  "
   ]
  },
  {
   "cell_type": "markdown",
   "metadata": {
    "colab_type": "text",
    "id": "mn0UwlZATYwX"
   },
   "source": [
    "### Again, test your results.\n",
    "\n",
    "Now, sometimes some column names should have smaller sizes (because you are removing consecutive spaces)"
   ]
  },
  {
   "cell_type": "code",
   "execution_count": 88,
   "metadata": {
    "colab": {},
    "colab_type": "code",
    "id": "LzHIKAT4TYwZ"
   },
   "outputs": [
    {
     "data": {
      "text/plain": [
       "['beaccaabéacá',\n",
       " 'fcd_be_accác',\n",
       " 'bebbabb_cbcd',\n",
       " 'bbbbófaabbea',\n",
       " 'baéfbbffdaf',\n",
       " 'b_baacaabbba',\n",
       " 'fadccbcfbbfb',\n",
       " 'abdcc_affccb',\n",
       " 'ab_bbadbbaád',\n",
       " 'caaócbfbabfb']"
      ]
     },
     "execution_count": 88,
     "metadata": {},
     "output_type": "execute_result"
    }
   ],
   "source": [
    "normalize_cols(create_weird_dataframe())"
   ]
  },
  {
   "cell_type": "markdown",
   "metadata": {
    "colab_type": "text",
    "id": "bs7KvyTwTYwc"
   },
   "source": [
    "## Last step: remove accents"
   ]
  },
  {
   "cell_type": "markdown",
   "metadata": {
    "colab_type": "text",
    "id": "rhQLRfoYTYwd"
   },
   "source": [
    "The last step consists in removing accents from the strings.\n",
    "\n",
    "Import the package `unidecode` to use its module also called `unidecode` to remove accents. Test on the word below."
   ]
  },
  {
   "cell_type": "code",
   "execution_count": 97,
   "metadata": {},
   "outputs": [
    {
     "name": "stdout",
     "output_type": "stream",
     "text": [
      "Collecting unidecode\n",
      "  Using cached https://files.pythonhosted.org/packages/d0/42/d9edfed04228bacea2d824904cae367ee9efd05e6cce7ceaaedd0b0ad964/Unidecode-1.1.1-py2.py3-none-any.whl\n",
      "Installing collected packages: unidecode\n",
      "Successfully installed unidecode-1.1.1\n"
     ]
    }
   ],
   "source": [
    "!pip3 install unidecode"
   ]
  },
  {
   "cell_type": "code",
   "execution_count": 98,
   "metadata": {
    "colab": {},
    "colab_type": "code",
    "id": "4fgbbUbZTYwg"
   },
   "outputs": [],
   "source": [
    "from unidecode import unidecode"
   ]
  },
  {
   "cell_type": "code",
   "execution_count": 101,
   "metadata": {
    "colab": {},
    "colab_type": "code",
    "id": "osrv7brdTYwe"
   },
   "outputs": [],
   "source": [
    "text = 'aéóúaorowó' "
   ]
  },
  {
   "cell_type": "code",
   "execution_count": 102,
   "metadata": {},
   "outputs": [
    {
     "data": {
      "text/plain": [
       "'aeouaorowo'"
      ]
     },
     "execution_count": 102,
     "metadata": {},
     "output_type": "execute_result"
    }
   ],
   "source": [
    "unidecode(text)"
   ]
  },
  {
   "cell_type": "markdown",
   "metadata": {
    "colab_type": "text",
    "id": "tCoX4ZYLTYwj"
   },
   "source": [
    "### Now remove the accents for each column name in your `normalized_cols` function.\n",
    "\n",
    "*Hint: Copy and paste the last `normalize_cols` function to change it.*"
   ]
  },
  {
   "cell_type": "code",
   "execution_count": 105,
   "metadata": {
    "colab": {},
    "colab_type": "code",
    "id": "3ZW9No0uTYwk"
   },
   "outputs": [],
   "source": [
    "def normalize_cols(df):\n",
    "    col_names=df.columns\n",
    "    lower_colnames = []\n",
    "    for i in col_names:\n",
    "        i = unidecode(i)\n",
    "        lower_colnames.append(i.lower())\n",
    "        for i in lower_colnames:\n",
    "            if i.startswith(' '):\n",
    "                lower_colnames[lower_colnames.index(i)] = i.lstrip()\n",
    "            elif ' ' in i:\n",
    "                pos = lower_colnames.index(i)\n",
    "                i = re.sub(' ','_', i)\n",
    "                i = re.sub('([_]+)','_',i)\n",
    "                lower_colnames[pos] = i\n",
    "            else:\n",
    "                lower_colnames[lower_colnames.index(i)] = i\n",
    "                \n",
    "    return lower_colnames  "
   ]
  },
  {
   "cell_type": "markdown",
   "metadata": {
    "colab_type": "text",
    "id": "MTgNfgeYTYwm"
   },
   "source": [
    "### Test your results"
   ]
  },
  {
   "cell_type": "code",
   "execution_count": 106,
   "metadata": {
    "colab": {},
    "colab_type": "code",
    "id": "RxDiO0PzTYwn"
   },
   "outputs": [
    {
     "data": {
      "text/plain": [
       "['aacccdacbfbf',\n",
       " 'abdbecaacaaa',\n",
       " 'babdaafb_a_',\n",
       " 'cabfbecbaccc',\n",
       " 'beebdccaeacc',\n",
       " 'f_dcdbcafdaa',\n",
       " 'ccdebbadedd_',\n",
       " 'fafoabbaodba',\n",
       " 'eeocobbcbece',\n",
       " 'facef_aaabaa']"
      ]
     },
     "execution_count": 106,
     "metadata": {},
     "output_type": "execute_result"
    }
   ],
   "source": [
    "normalize_cols(create_weird_dataframe())"
   ]
  },
  {
   "cell_type": "markdown",
   "metadata": {
    "colab_type": "text",
    "id": "VQ9C0CjkTYwq"
   },
   "source": [
    "## Good job. \n",
    "\n",
    "Right now you have a function that receives a dataframe and returns its columns names with a good formatting."
   ]
  },
  {
   "cell_type": "markdown",
   "metadata": {
    "colab_type": "text",
    "id": "5swtawYcTYwq"
   },
   "source": [
    "# Creating our own dataframe."
   ]
  },
  {
   "cell_type": "code",
   "execution_count": 107,
   "metadata": {
    "colab": {},
    "colab_type": "code",
    "id": "69irk1odTYwr"
   },
   "outputs": [],
   "source": [
    "from pandas import DataFrame"
   ]
  },
  {
   "cell_type": "markdown",
   "metadata": {
    "colab_type": "text",
    "id": "3vUf_BFSTYwt"
   },
   "source": [
    "A dataframe is just a simple class. It contains its own attributes and methods. \n",
    "\n",
    "When you create a pd.DataFrame() you are just instantiating the DataFrame class as an object that you can store in a variable. From this point onwards, you have access to all DataFrame class attributes (`.columns` for example) and methods (`.isna()` for example). We've been using those since always! "
   ]
  },
  {
   "cell_type": "markdown",
   "metadata": {
    "colab_type": "text",
    "id": "A5I8dflETYwu"
   },
   "source": [
    "If we wish, we could create our own class inheriting everything from a DataFrame class."
   ]
  },
  {
   "cell_type": "code",
   "execution_count": 108,
   "metadata": {
    "colab": {},
    "colab_type": "code",
    "id": "xZUmnuzzTYwv"
   },
   "outputs": [],
   "source": [
    "class myDataFrame(DataFrame):\n",
    "    pass"
   ]
  },
  {
   "cell_type": "markdown",
   "metadata": {
    "colab_type": "text",
    "id": "mPSyMDn4TYwy"
   },
   "source": [
    "Instead of just creating myDataFrame, put your function inside your new inherited class, that is, transform `normalize_cols` into a method of your own DataFrame.\n",
    "\n",
    "Remember you'll have to give self as the first argument of the `normalize_cols`. So you could replace everything you once called `dataframe` inside your `normalize_cols` by `self`. \n",
    "\n",
    "At the end, return the list of the correct names."
   ]
  },
  {
   "cell_type": "code",
   "execution_count": 113,
   "metadata": {
    "colab": {},
    "colab_type": "code",
    "id": "UD3uk6bkTYwz"
   },
   "outputs": [],
   "source": [
    "class myDataFrame(DataFrame):\n",
    "    def normalize_cols(self):\n",
    "        col_names=self.columns\n",
    "        lower_colnames = []\n",
    "        for i in col_names:\n",
    "            i = unidecode(i)\n",
    "            lower_colnames.append(i.lower())\n",
    "            for i in lower_colnames:\n",
    "                if i.startswith(' '):\n",
    "                    lower_colnames[lower_colnames.index(i)] = i.lstrip()\n",
    "                elif ' ' in i:\n",
    "                    pos = lower_colnames.index(i)\n",
    "                    i = re.sub(' ','_', i)\n",
    "                    i = re.sub('([_]+)','_',i)\n",
    "                    lower_colnames[pos] = i\n",
    "                else:\n",
    "                    lower_colnames[lower_colnames.index(i)] = i\n",
    "                \n",
    "        return lower_colnames  "
   ]
  },
  {
   "cell_type": "markdown",
   "metadata": {
    "colab_type": "text",
    "id": "lCKiKMavTYw1"
   },
   "source": [
    "Test your results."
   ]
  },
  {
   "cell_type": "code",
   "execution_count": 114,
   "metadata": {
    "colab": {},
    "colab_type": "code",
    "id": "EaVQNJBbTYw2"
   },
   "outputs": [
    {
     "data": {
      "text/plain": [
       "['bdeebeab_eab',\n",
       " 'acbbafaccc_b',\n",
       " 'efec_ebaede',\n",
       " 'eabcb_a_afab',\n",
       " 'cabbaafcafbe',\n",
       " 'fcbaaabbfbdb',\n",
       " 'aabbcea_abac',\n",
       " 'cccdaeaabdc',\n",
       " 'baaa_abdfdac',\n",
       " 'efbfdb_febaf']"
      ]
     },
     "execution_count": 114,
     "metadata": {},
     "output_type": "execute_result"
    }
   ],
   "source": [
    "df = myDataFrame(create_weird_dataframe())\n",
    "df.normalize_cols()"
   ]
  },
  {
   "cell_type": "markdown",
   "metadata": {
    "colab_type": "text",
    "id": "I0IlScuLTYw5"
   },
   "source": [
    "## Understanding even more the `self` argument"
   ]
  },
  {
   "cell_type": "markdown",
   "metadata": {
    "colab_type": "text",
    "id": "UF5gjA1qTYw6"
   },
   "source": [
    "Instead of returning a list containing the correct columns, you should now assign the correct columns to the `self.columns` - this will effectively replace the values of your object by the correct columns.\n",
    "\n",
    "\n",
    "Now change your method to return the dataframe itself. That is, return the `self` argument this time and see the results! \n",
    "\n",
    "```python\n",
    "class myDataFrame(DataFrame):\n",
    "    def normalize_cos(self):\n",
    "        ...\n",
    "        return self\n",
    "```"
   ]
  },
  {
   "cell_type": "code",
   "execution_count": 122,
   "metadata": {
    "colab": {},
    "colab_type": "code",
    "id": "dTtylbdGTYw7"
   },
   "outputs": [],
   "source": [
    "class myDataFrame(DataFrame):\n",
    "    def normalize_cols(self):\n",
    "        col_names=self.columns\n",
    "        lower_colnames = []\n",
    "        for i in col_names:\n",
    "            i = unidecode(i)\n",
    "            lower_colnames.append(i.lower())\n",
    "            for i in lower_colnames:\n",
    "                if i.startswith(' '):\n",
    "                    lower_colnames[lower_colnames.index(i)] = i.lstrip()\n",
    "                elif ' ' in i:\n",
    "                    pos = lower_colnames.index(i)\n",
    "                    i = re.sub(' ','_', i)\n",
    "                    i = re.sub('([_]+)','_',i)\n",
    "                    lower_colnames[pos] = i\n",
    "                else:\n",
    "                    lower_colnames[lower_colnames.index(i)] = i\n",
    "                \n",
    "     \n",
    "        self.columns = lower_colnames            \n",
    "        return self  "
   ]
  },
  {
   "cell_type": "code",
   "execution_count": 123,
   "metadata": {},
   "outputs": [
    {
     "data": {
      "text/html": [
       "<div>\n",
       "<style scoped>\n",
       "    .dataframe tbody tr th:only-of-type {\n",
       "        vertical-align: middle;\n",
       "    }\n",
       "\n",
       "    .dataframe tbody tr th {\n",
       "        vertical-align: top;\n",
       "    }\n",
       "\n",
       "    .dataframe thead th {\n",
       "        text-align: right;\n",
       "    }\n",
       "</style>\n",
       "<table border=\"1\" class=\"dataframe\">\n",
       "  <thead>\n",
       "    <tr style=\"text-align: right;\">\n",
       "      <th></th>\n",
       "      <th>bdca_aababac</th>\n",
       "      <th>ffccdecfcccc</th>\n",
       "      <th>aacaaaafcfdd</th>\n",
       "      <th>cabbfebfcbbd</th>\n",
       "      <th>dabf_acbfeab</th>\n",
       "      <th>cbbfaedbfbdb</th>\n",
       "      <th>cbaaeabedaff</th>\n",
       "      <th>eccabaeeca_d</th>\n",
       "      <th>cbcebedfcdab</th>\n",
       "      <th>ccfbabcdaffa</th>\n",
       "    </tr>\n",
       "  </thead>\n",
       "  <tbody>\n",
       "    <tr>\n",
       "      <th>0</th>\n",
       "      <td>0.616420</td>\n",
       "      <td>0.931237</td>\n",
       "      <td>0.469630</td>\n",
       "      <td>0.746373</td>\n",
       "      <td>0.918487</td>\n",
       "      <td>0.758473</td>\n",
       "      <td>0.235616</td>\n",
       "      <td>0.961890</td>\n",
       "      <td>0.276930</td>\n",
       "      <td>0.246395</td>\n",
       "    </tr>\n",
       "    <tr>\n",
       "      <th>1</th>\n",
       "      <td>0.849017</td>\n",
       "      <td>0.250975</td>\n",
       "      <td>0.739936</td>\n",
       "      <td>0.427323</td>\n",
       "      <td>0.116952</td>\n",
       "      <td>0.561149</td>\n",
       "      <td>0.546146</td>\n",
       "      <td>0.238881</td>\n",
       "      <td>0.785780</td>\n",
       "      <td>0.226862</td>\n",
       "    </tr>\n",
       "    <tr>\n",
       "      <th>2</th>\n",
       "      <td>0.303931</td>\n",
       "      <td>0.323895</td>\n",
       "      <td>0.367229</td>\n",
       "      <td>0.254722</td>\n",
       "      <td>0.249803</td>\n",
       "      <td>0.630437</td>\n",
       "      <td>0.586975</td>\n",
       "      <td>0.585635</td>\n",
       "      <td>0.180715</td>\n",
       "      <td>0.048303</td>\n",
       "    </tr>\n",
       "    <tr>\n",
       "      <th>3</th>\n",
       "      <td>0.494516</td>\n",
       "      <td>0.566789</td>\n",
       "      <td>0.322082</td>\n",
       "      <td>0.283500</td>\n",
       "      <td>0.115050</td>\n",
       "      <td>0.569276</td>\n",
       "      <td>0.859821</td>\n",
       "      <td>0.240007</td>\n",
       "      <td>0.645257</td>\n",
       "      <td>0.127804</td>\n",
       "    </tr>\n",
       "    <tr>\n",
       "      <th>4</th>\n",
       "      <td>0.530873</td>\n",
       "      <td>0.735414</td>\n",
       "      <td>0.394613</td>\n",
       "      <td>0.481686</td>\n",
       "      <td>0.333123</td>\n",
       "      <td>0.658203</td>\n",
       "      <td>0.840639</td>\n",
       "      <td>0.948086</td>\n",
       "      <td>0.239187</td>\n",
       "      <td>0.767037</td>\n",
       "    </tr>\n",
       "    <tr>\n",
       "      <th>5</th>\n",
       "      <td>0.832373</td>\n",
       "      <td>0.730057</td>\n",
       "      <td>0.150634</td>\n",
       "      <td>0.987010</td>\n",
       "      <td>0.566729</td>\n",
       "      <td>0.997050</td>\n",
       "      <td>0.077597</td>\n",
       "      <td>0.872504</td>\n",
       "      <td>0.608233</td>\n",
       "      <td>0.701973</td>\n",
       "    </tr>\n",
       "    <tr>\n",
       "      <th>6</th>\n",
       "      <td>0.752960</td>\n",
       "      <td>0.546610</td>\n",
       "      <td>0.558165</td>\n",
       "      <td>0.233757</td>\n",
       "      <td>0.435297</td>\n",
       "      <td>0.929127</td>\n",
       "      <td>0.928201</td>\n",
       "      <td>0.914252</td>\n",
       "      <td>0.145037</td>\n",
       "      <td>0.987561</td>\n",
       "    </tr>\n",
       "    <tr>\n",
       "      <th>7</th>\n",
       "      <td>0.537113</td>\n",
       "      <td>0.662166</td>\n",
       "      <td>0.588955</td>\n",
       "      <td>0.554291</td>\n",
       "      <td>0.343417</td>\n",
       "      <td>0.995730</td>\n",
       "      <td>0.201902</td>\n",
       "      <td>0.010038</td>\n",
       "      <td>0.565643</td>\n",
       "      <td>0.847529</td>\n",
       "    </tr>\n",
       "    <tr>\n",
       "      <th>8</th>\n",
       "      <td>0.524365</td>\n",
       "      <td>0.248021</td>\n",
       "      <td>0.578534</td>\n",
       "      <td>0.207728</td>\n",
       "      <td>0.232216</td>\n",
       "      <td>0.303676</td>\n",
       "      <td>0.680903</td>\n",
       "      <td>0.639880</td>\n",
       "      <td>0.131868</td>\n",
       "      <td>0.230204</td>\n",
       "    </tr>\n",
       "    <tr>\n",
       "      <th>9</th>\n",
       "      <td>0.423364</td>\n",
       "      <td>0.218112</td>\n",
       "      <td>0.815582</td>\n",
       "      <td>0.693277</td>\n",
       "      <td>0.886677</td>\n",
       "      <td>0.531140</td>\n",
       "      <td>0.237161</td>\n",
       "      <td>0.028835</td>\n",
       "      <td>0.826256</td>\n",
       "      <td>0.898408</td>\n",
       "    </tr>\n",
       "  </tbody>\n",
       "</table>\n",
       "</div>"
      ],
      "text/plain": [
       "   bdca_aababac  ffccdecfcccc  aacaaaafcfdd  cabbfebfcbbd  dabf_acbfeab  \\\n",
       "0      0.616420      0.931237      0.469630      0.746373      0.918487   \n",
       "1      0.849017      0.250975      0.739936      0.427323      0.116952   \n",
       "2      0.303931      0.323895      0.367229      0.254722      0.249803   \n",
       "3      0.494516      0.566789      0.322082      0.283500      0.115050   \n",
       "4      0.530873      0.735414      0.394613      0.481686      0.333123   \n",
       "5      0.832373      0.730057      0.150634      0.987010      0.566729   \n",
       "6      0.752960      0.546610      0.558165      0.233757      0.435297   \n",
       "7      0.537113      0.662166      0.588955      0.554291      0.343417   \n",
       "8      0.524365      0.248021      0.578534      0.207728      0.232216   \n",
       "9      0.423364      0.218112      0.815582      0.693277      0.886677   \n",
       "\n",
       "   cbbfaedbfbdb  cbaaeabedaff  eccabaeeca_d  cbcebedfcdab  ccfbabcdaffa  \n",
       "0      0.758473      0.235616      0.961890      0.276930      0.246395  \n",
       "1      0.561149      0.546146      0.238881      0.785780      0.226862  \n",
       "2      0.630437      0.586975      0.585635      0.180715      0.048303  \n",
       "3      0.569276      0.859821      0.240007      0.645257      0.127804  \n",
       "4      0.658203      0.840639      0.948086      0.239187      0.767037  \n",
       "5      0.997050      0.077597      0.872504      0.608233      0.701973  \n",
       "6      0.929127      0.928201      0.914252      0.145037      0.987561  \n",
       "7      0.995730      0.201902      0.010038      0.565643      0.847529  \n",
       "8      0.303676      0.680903      0.639880      0.131868      0.230204  \n",
       "9      0.531140      0.237161      0.028835      0.826256      0.898408  "
      ]
     },
     "execution_count": 123,
     "metadata": {},
     "output_type": "execute_result"
    }
   ],
   "source": [
    "df = myDataFrame(create_weird_dataframe())\n",
    "df.normalize_cols()"
   ]
  },
  {
   "cell_type": "markdown",
   "metadata": {
    "colab_type": "text",
    "id": "bh1SJi3lTYxf"
   },
   "source": [
    "## Understanding the self argument"
   ]
  },
  {
   "cell_type": "markdown",
   "metadata": {
    "colab_type": "text",
    "id": "ZnGiF0QgTYxi"
   },
   "source": [
    "Now, below the `for loop` you've created, let's create the attributes of the `Car` class. Remember the attributes you wrote down earlier? Let's put them as arguments of the `__init__(self,)` function.\n",
    "\n",
    "Remember, the first argument of the `__init__(self,)` function should always be the `self` keyword. \n",
    "\n",
    "The `self` argument represents the object itself. That is a way for you to have access to the objects own attribute. \n"
   ]
  },
  {
   "cell_type": "markdown",
   "metadata": {
    "colab_type": "text",
    "id": "EuP7N9DzTYxj"
   },
   "source": [
    "### First, let's start creating one single attribute of this car."
   ]
  },
  {
   "cell_type": "markdown",
   "metadata": {
    "colab_type": "text",
    "id": "Szqw_HxlTYxk"
   },
   "source": [
    "Let's say you have chosen `name` as a car attribute (what? can't a car have a name?). \n",
    "\n",
    "If you want your class to receive a specific car name as an argument, you have to put this variable as the argument of the `__init__` function. So, to add `name`, the results of your special function definition would be:\n",
    "\n",
    "```python\n",
    "def __init__(self, name):\n",
    "    pass\n",
    "```\n",
    "\n",
    "Now, when you instantiate your Car class, the syntax would be similar to calling a function (which, by now, you should now that it is what you are effectively doing - you are calling the __init__ method), so what the syntax would be:\n",
    "\n",
    "*Hint: If you don't specify an argument, the python interpreter will complain that your class requires one argument (try that - if you don't try it now, it is not a problem, you'll try in future, even when you don't want to).*\n"
   ]
  },
  {
   "cell_type": "code",
   "execution_count": 0,
   "metadata": {
    "colab": {},
    "colab_type": "code",
    "id": "Uz0lt0tuTYxk"
   },
   "outputs": [],
   "source": [
    "# your code here"
   ]
  },
  {
   "cell_type": "markdown",
   "metadata": {
    "colab_type": "text",
    "id": "FLmjUel1TYxo"
   },
   "source": [
    "### Now let's store that new argument\n",
    "\n",
    "By now, you are only receiving the name of the car as an argument, but you are not doing anything specifically with that variable called `name`.\n",
    "\n",
    "Let's store that in the object. That's the first use of the `self` keyword.\n",
    "\n",
    "To store the variable in a way that the user can access via a `car.SOMETHING`, you have to specify that the object itself is receiving the attribute `name` (for example)\n",
    "\n",
    "Then, **create a variable called `name` that receives the argument `name`** (keep in mind that the name of the variable need not necessarily be the same, you could assing the argument `name` to an attribute called `chimpanze` for example).\n",
    "\n",
    "Also **create the other 5 attributes that you previously had in mind**\n"
   ]
  },
  {
   "cell_type": "code",
   "execution_count": 0,
   "metadata": {
    "colab": {},
    "colab_type": "code",
    "id": "7FzwacOwTYxq"
   },
   "outputs": [],
   "source": [
    "# your code here"
   ]
  },
  {
   "cell_type": "markdown",
   "metadata": {
    "colab_type": "text",
    "id": "3fS9sCKjTYxs"
   },
   "source": [
    "### Access the attribute\n",
    "\n",
    "You should now be able to access the object's attribute once you instantiate it as `my_car.name`\n",
    "\n",
    "You can try to write `my_car.<TAB>` to check what attributes or methods your object contains."
   ]
  },
  {
   "cell_type": "code",
   "execution_count": 0,
   "metadata": {
    "colab": {},
    "colab_type": "code",
    "id": "if18GWwtTYxt"
   },
   "outputs": [],
   "source": []
  },
  {
   "cell_type": "markdown",
   "metadata": {
    "colab_type": "text",
    "id": "uu5Ma2rvTYxu"
   },
   "source": [
    "## Understanding special methods"
   ]
  },
  {
   "cell_type": "markdown",
   "metadata": {
    "colab_type": "text",
    "id": "ltpSwuvTTYxv"
   },
   "source": [
    "Special methods are the ones that start with double underlines (usually called `dunder`), for example the `__init__` method, the `__doc__` method or `__repr__` method (called as `dunder init`, `dunder doc`, `dunder repr`)."
   ]
  },
  {
   "cell_type": "markdown",
   "metadata": {
    "colab_type": "text",
    "id": "dyytOn27TYxw"
   },
   "source": [
    "The `__repr__` method is responsible to show how your class will be displayed on screen when you display it.\n",
    "Let's create a `__repr__(self)` function on our `Car` class that returns the following string below (copy the string below):\n",
    "\n",
    "```python\n",
    "    car = f'''\n",
    "                  ______--------___\n",
    "                 /|             / |\n",
    "      o___________|_\\__________/__|\n",
    "     ]|___     |  |=   ||  =|___  |\"\n",
    "     //   \\\\    |  |____||_///   \\\\|\"\n",
    "    |  X  |\\--------------/|  X  |\\\"\n",
    "     \\___/                  \\___/\n",
    "    '''\n",
    "```\n",
    "\n",
    "Your class should now have two special methods, `__init__` and `__repr__`"
   ]
  },
  {
   "cell_type": "code",
   "execution_count": 0,
   "metadata": {
    "colab": {},
    "colab_type": "code",
    "id": "y4JUYVALTYxw"
   },
   "outputs": [],
   "source": [
    "class Car:\n",
    "    \n",
    "    def __init__(self, car_name):\n",
    "        self.car_name = car_name\n",
    "    \n",
    "    def __repr__(self):\n",
    "        \n",
    "        car = f'''\n",
    "                      ______--------___\n",
    "                     /|             / |\n",
    "          o___________|_\\__________/__|\n",
    "         ]|___     |  |=   ||  =|___  |\"\n",
    "         //   \\\\    |  |____||_///   \\\\|\"\n",
    "        |  X  |\\--------------/|  X  |\\\"\n",
    "         \\___/                  \\___/\n",
    "        '''\n",
    "        \n",
    "        return car"
   ]
  },
  {
   "cell_type": "markdown",
   "metadata": {
    "colab_type": "text",
    "id": "cZV4Qq62TYx4"
   },
   "source": [
    "### Now instantiate your Car class again"
   ]
  },
  {
   "cell_type": "code",
   "execution_count": 0,
   "metadata": {
    "colab": {},
    "colab_type": "code",
    "id": "K51Kjik8TYx4"
   },
   "outputs": [],
   "source": [
    "my_car = Car('Jeguinho')"
   ]
  },
  {
   "cell_type": "markdown",
   "metadata": {
    "colab_type": "text",
    "id": "ZoFEGcT1TYx8"
   },
   "source": [
    "### And check what happens when you print your object on screen"
   ]
  },
  {
   "cell_type": "code",
   "execution_count": 0,
   "metadata": {
    "colab": {},
    "colab_type": "code",
    "id": "v3JCceBBTYx9"
   },
   "outputs": [],
   "source": [
    "print(my_car)"
   ]
  },
  {
   "cell_type": "markdown",
   "metadata": {
    "colab_type": "text",
    "id": "tfhgwGFDTYyA"
   },
   "source": [
    "### Now create a simple method to receive and return the `self` variable\n",
    "\n",
    "Create a simple method inside your `class Car` and return `self` the self argument. Name this method `get_itself`."
   ]
  },
  {
   "cell_type": "code",
   "execution_count": 0,
   "metadata": {
    "colab": {},
    "colab_type": "code",
    "id": "jEQNj8r4TYyB"
   },
   "outputs": [],
   "source": [
    "class Car:\n",
    "    \n",
    "    def __init__(self, car_name):\n",
    "        self.car_name = car_name\n",
    "    \n",
    "    def __repr__(self):\n",
    "        \n",
    "        car = f'''\n",
    "                      ______--------___\n",
    "                     /|             / |\n",
    "          o___________|_\\__________/__|\n",
    "         ]|___     |  |=   ||  =|___  |\"\n",
    "         //   \\\\    |  |____||_///   \\\\|\"\n",
    "        |  X  |\\--------------/|  X  |\\\"\n",
    "         \\___/                  \\___/\n",
    "        '''\n",
    "        \n",
    "        return car\n",
    "    \n",
    "    def get_itself(self):\n",
    "        return self"
   ]
  },
  {
   "cell_type": "markdown",
   "metadata": {
    "colab_type": "text",
    "id": "Zd2avbOGTYyE"
   },
   "source": [
    "#### Now instantiate the Car class and call `get_itself()`"
   ]
  },
  {
   "cell_type": "code",
   "execution_count": 0,
   "metadata": {
    "colab": {},
    "colab_type": "code",
    "id": "pUl9ZI8YTYyF"
   },
   "outputs": [],
   "source": [
    "my_car = Car('andre')"
   ]
  },
  {
   "cell_type": "code",
   "execution_count": 0,
   "metadata": {
    "colab": {},
    "colab_type": "code",
    "id": "AZ3o-NCkTYyK"
   },
   "outputs": [],
   "source": [
    "my_car.get_itself()"
   ]
  },
  {
   "cell_type": "markdown",
   "metadata": {
    "colab_type": "text",
    "id": "QZ25I6chTYyL"
   },
   "source": [
    "This happens because you are print this specific object. "
   ]
  }
 ],
 "metadata": {
  "colab": {
   "collapsed_sections": [
    "YMpWYJFwTYvz",
    "LWMc9bikTYv4",
    "ikvacQQ3TYv7",
    "MXm2-PEbTYwA",
    "zNR5w4cWTYwE",
    "iqffTpd3TYwU",
    "mn0UwlZATYwX",
    "tCoX4ZYLTYwj",
    "MTgNfgeYTYwm",
    "VQ9C0CjkTYwq",
    "I0IlScuLTYw5",
    "bh1SJi3lTYxf",
    "EuP7N9DzTYxj",
    "FLmjUel1TYxo",
    "3fS9sCKjTYxs",
    "uu5Ma2rvTYxu",
    "cZV4Qq62TYx4",
    "ZoFEGcT1TYx8",
    "tfhgwGFDTYyA",
    "Zd2avbOGTYyE"
   ],
   "name": "[BONUS] challenge-02.ipynb",
   "provenance": []
  },
  "kernelspec": {
   "display_name": "Python 3",
   "language": "python",
   "name": "python3"
  },
  "language_info": {
   "codemirror_mode": {
    "name": "ipython",
    "version": 3
   },
   "file_extension": ".py",
   "mimetype": "text/x-python",
   "name": "python",
   "nbconvert_exporter": "python",
   "pygments_lexer": "ipython3",
   "version": "3.6.9"
  },
  "toc": {
   "base_numbering": 1,
   "nav_menu": {},
   "number_sections": true,
   "sideBar": true,
   "skip_h1_title": false,
   "title_cell": "Table of Contents",
   "title_sidebar": "Contents",
   "toc_cell": false,
   "toc_position": {},
   "toc_section_display": true,
   "toc_window_display": false
  }
 },
 "nbformat": 4,
 "nbformat_minor": 1
}
